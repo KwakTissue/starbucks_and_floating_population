{
 "cells": [
  {
   "cell_type": "markdown",
   "id": "d8fb234e",
   "metadata": {},
   "source": [
    "## 유동인구 데이터 수집후 컨켓"
   ]
  },
  {
   "cell_type": "code",
   "execution_count": null,
   "id": "9aebb570",
   "metadata": {},
   "outputs": [],
   "source": [
    "import os\n",
    "import pandas as pd\n",
    "import time\n",
    "import warnings\n",
    "warnings.filterwarnings('ignore')"
   ]
  },
  {
   "cell_type": "code",
   "execution_count": null,
   "id": "c272cbb8",
   "metadata": {},
   "outputs": [],
   "source": [
    "for root, dirs, files in os.walk('/Users/kwakdong-u/Library/CloudStorage/OneDrive-UOS/스타벅스 유동인구 팀플/유동인구 데이터/유동인구 컨켓 폴더'):\n",
    "    print('### root:', root)\n",
    "    print('--- dirs: ', dirs)\n",
    "    print(files)"
   ]
  },
  {
   "cell_type": "code",
   "execution_count": null,
   "id": "c99ab935",
   "metadata": {},
   "outputs": [],
   "source": [
    "%%time\n",
    "\n",
    "def living_concat(root_path):\n",
    "    #root_path: 상위폴더 경로\n",
    "    root_path = root_path\n",
    "    folder_list = [name for name in os.listdir(root_path) if os.path.isdir(os.path.join(root_path, name))]\n",
    "    \n",
    "    #dataframe 생성\n",
    "    df_total = pd.DataFrame()\n",
    "    \n",
    "    for folder in folder_list:\n",
    "        file_list = os.listdir(os.path.join(root_path, folder))\n",
    "        file_list_csv = [file for file in file_list if file.endswith('.csv')] # csv만 추출\n",
    "        \n",
    "        start_time=time.time()\n",
    "        # 파일읽기\n",
    "        print(\"### Selected Directory:\", folder)\n",
    "        \n",
    "        for file in file_list_csv:\n",
    "            try:\n",
    "                df = pd.read_csv(os.path.join(root_path, folder, file),\n",
    "                                index_col=False, header=0,\n",
    "                                names=['기준일ID', '시간대구분', '행정동코드', '집계구코드', '총생활인구수'], \n",
    "                                encoding='UTF-8', usecols=[0,1,2,3,4])\n",
    "            except:\n",
    "                df = pd.read_csv(os.path.join(root_path, folder, file),\n",
    "                                index_col=False, header=0,\n",
    "                                names=['기준일ID', '시간대구분', '행정동코드', '집계구코드', '총생활인구수'], \n",
    "                                encoding='cp949', usecols=[0,1,2,3,4])\n",
    "            # 데이터 확인 코드\n",
    "            print('파일명:' + file) \n",
    "            print(\"집계구 개수:\",df['집계구코드'].nunique())\n",
    "            print(\"시간대구분 개수:\", df['시간대구분'].nunique())\n",
    "            print(\"기준일:\", df['기준일ID'].nunique())\n",
    "            \n",
    "            df_total = pd.concat([df_total, df], axis = 0, ignore_index=False)\n",
    "            \n",
    "\n",
    "        \n",
    "        #데이터 확인 코드\n",
    "        print(\"기준일 토탈:\", df_total['기준일ID'].nunique())\n",
    "        \n",
    "        end_time = time.time()\n",
    "        elapsed_time = end_time - start_time\n",
    "        print(\"경과 시간: \", elapsed_time, \"초\\n\")       \n",
    "    \n",
    "    return df_total"
   ]
  },
  {
   "cell_type": "code",
   "execution_count": null,
   "id": "2012396a",
   "metadata": {},
   "outputs": [],
   "source": [
    "%%time\n",
    "df_total = living_concat('/Users/kwakdong-u/Library/CloudStorage/OneDrive-UOS/스타벅스 유동인구 팀플/유동인구 데이터/202304_20230531')"
   ]
  },
  {
   "cell_type": "code",
   "execution_count": null,
   "id": "f9137b19",
   "metadata": {},
   "outputs": [],
   "source": [
    "%%time\n",
    "# groupby로 집계구코드, 날짜를 기준으로 총생활인구수 합치기\n",
    "df_day = df_total.groupby(['집계구코드', '기준일ID'], as_index=False)[['총생활인구수']].sum()"
   ]
  },
  {
   "cell_type": "code",
   "execution_count": null,
   "id": "245acdd4",
   "metadata": {},
   "outputs": [],
   "source": [
    "print(df_day['기준일ID'].nunique())\n",
    "df_day.head()"
   ]
  },
  {
   "cell_type": "code",
   "execution_count": null,
   "id": "aebc24a7",
   "metadata": {},
   "outputs": [],
   "source": [
    "#파일 저장코드\n",
    "df_day.to_csv('/Users/kwakdong-u/Library/CloudStorage/OneDrive-UOS/스타벅스 유동인구 팀플/유동인구 데이터/livning_pop_202304_05.csv', index=False, encoding='euc-kr')"
   ]
  },
  {
   "cell_type": "markdown",
   "id": "6a71c9d9",
   "metadata": {},
   "source": [
    "# 유동인구 데이터와 스타벅스 데이터 조인"
   ]
  },
  {
   "cell_type": "code",
   "execution_count": null,
   "id": "1e463e74",
   "metadata": {},
   "outputs": [],
   "source": [
    "liv = pd.read_csv('/Users/kwakdong-u/Library/CloudStorage/OneDrive-UOS/스타벅스 유동인구 팀플/유동인구_스타벅스/living_pop.csv',\n",
    "                 encoding = 'euc-kr')\n",
    "liv.head()"
   ]
  },
  {
   "cell_type": "code",
   "execution_count": null,
   "id": "ad6aed32",
   "metadata": {},
   "outputs": [],
   "source": [
    "liv.isnull().sum()"
   ]
  },
  {
   "cell_type": "code",
   "execution_count": null,
   "id": "400b1a67",
   "metadata": {},
   "outputs": [],
   "source": [
    "# 기준일ID datetype으로 전환\n",
    "def transform_datetype(df):\n",
    "    df['기준일ID'] = df['기준일ID'].astype('str')\n",
    "    df['기준일ID'] = pd.to_datetime(df['기준일ID'])\n",
    "    return df"
   ]
  },
  {
   "cell_type": "code",
   "execution_count": null,
   "id": "b2444acd",
   "metadata": {},
   "outputs": [],
   "source": [
    "liv = transform_datetype(liv)"
   ]
  },
  {
   "cell_type": "code",
   "execution_count": null,
   "id": "da510889",
   "metadata": {},
   "outputs": [],
   "source": [
    "print(liv.info())\n",
    "liv.head()"
   ]
  },
  {
   "cell_type": "markdown",
   "id": "4db0cec5",
   "metadata": {},
   "source": [
    "## 스타벅스 데이터 불러오기"
   ]
  },
  {
   "cell_type": "code",
   "execution_count": null,
   "id": "a73b8eaa",
   "metadata": {},
   "outputs": [],
   "source": [
    "star_area = pd.read_csv('/Users/kwakdong-u/Library/CloudStorage/OneDrive-UOS/스타벅스 유동인구 팀플/유동인구_스타벅스/스타벅스별 집계구 정보.csv',\n",
    "                       encoding='cp949')\n",
    "star_area.head()"
   ]
  },
  {
   "cell_type": "code",
   "execution_count": null,
   "id": "01fcdeb5",
   "metadata": {},
   "outputs": [],
   "source": [
    "star_area.info()"
   ]
  },
  {
   "cell_type": "code",
   "execution_count": null,
   "id": "e95c5a3a",
   "metadata": {},
   "outputs": [],
   "source": [
    "# 인허가일자 datetype으로 전환\n",
    "star_area['인허가일자'] = star_area['인허가일자'].astype('str')\n",
    "star_area['인허가일자'] = pd.to_datetime(star_area['인허가일자'])\n",
    "print(star_area.info())\n",
    "print(star_area)"
   ]
  },
  {
   "cell_type": "markdown",
   "id": "c4df73fd",
   "metadata": {},
   "source": [
    "## 유동인구 3개월 전후 평균 컬럼 만들기"
   ]
  },
  {
   "cell_type": "code",
   "execution_count": null,
   "id": "4be2218b",
   "metadata": {},
   "outputs": [],
   "source": [
    "from dateutil.relativedelta import relativedelta\n",
    "def pop_mean(area, data, day):\n",
    "    # area : 집계구코드\n",
    "    # data : 총생활인구수 파일\n",
    "    # day : 개점일자\n",
    "    df = data[data['집계구코드'] == area]\n",
    "    \n",
    "    #day datetime으로\n",
    "    #day = pd.to_datetime(str(day))\n",
    "    \n",
    "    #3개월이후\n",
    "    mask_plus3 = (df['기준일ID'] >= day)&(df['기준일ID'] <= day + relativedelta(months=3))\n",
    "    #3개월이전\n",
    "    mask_minus3 = (df['기준일ID'] >= day - relativedelta(months=3))&(df['기준일ID'] <= day)\n",
    "\n",
    "    # 3개월 이후까지의 총생활인구수 평균\n",
    "    h = df[mask_plus3]['총생활인구수'].mean()\n",
    "    \n",
    "    # 3개월 이후까지의 총생활인구수 평균\n",
    "    m = df[mask_minus3]['총생활인구수'].mean()\n",
    "    \n",
    "    k = [h, m]\n",
    "    return k\n",
    "\n",
    "    "
   ]
  },
  {
   "cell_type": "code",
   "execution_count": null,
   "id": "a47f3116",
   "metadata": {},
   "outputs": [],
   "source": [
    "#####스타벅스, 유동인구 조인후 3개월 3개월전 평균 구하기\n",
    "pop_after = []\n",
    "pop_before = []\n",
    "\n",
    "for day, area in zip(star_area['인허가일자'], star_area['TOT_REG_CD']):\n",
    "    k = pop_mean(area, liv, day)\n",
    "    pop_after.append(k[0])\n",
    "    pop_before.append(k[1])\n",
    "    \n",
    "    "
   ]
  },
  {
   "cell_type": "code",
   "execution_count": null,
   "id": "3e12d780",
   "metadata": {},
   "outputs": [],
   "source": [
    "star_area = star_area.assign(pop_plus = pop_after,pop_minus = pop_before)"
   ]
  },
  {
   "cell_type": "code",
   "execution_count": null,
   "id": "ef0453df",
   "metadata": {},
   "outputs": [],
   "source": [
    "data_s = star_area[['인허가일자','사업장명', 'pop_plus', 'pop_minus']]"
   ]
  },
  {
   "cell_type": "code",
   "execution_count": null,
   "id": "96769205",
   "metadata": {},
   "outputs": [],
   "source": [
    "#파일저장\n",
    "data_s.to_csv('/Users/kwakdong-u/Library/CloudStorage/OneDrive-UOS/스타벅스 유동인구 팀플/유동인구_스타벅스/living_fin.csv', index=False, encoding='euc-kr')"
   ]
  },
  {
   "cell_type": "markdown",
   "id": "a6784655",
   "metadata": {},
   "source": [
    "## 유동인구_스타벅스 최종파일"
   ]
  },
  {
   "cell_type": "code",
   "execution_count": null,
   "id": "56210f2b",
   "metadata": {},
   "outputs": [],
   "source": [
    "import numpy as np\n",
    "import pandas as pd\n",
    "import warnings\n",
    "warnings.filterwarnings('ignore')"
   ]
  },
  {
   "cell_type": "markdown",
   "id": "a65d53b2",
   "metadata": {},
   "source": [
    "### 파일 불러오기"
   ]
  },
  {
   "cell_type": "code",
   "execution_count": null,
   "id": "cdc2850a",
   "metadata": {},
   "outputs": [],
   "source": [
    "base_df = pd.read_csv('/Users/kwakdong-u/Library/CloudStorage/OneDrive-UOS/스타벅스 유동인구 팀플/임시데이터셋.csv',\n",
    "                 encoding='euc-kr')\n",
    "base_df.head()"
   ]
  },
  {
   "cell_type": "code",
   "execution_count": null,
   "id": "7c63d7e1",
   "metadata": {},
   "outputs": [],
   "source": [
    "base_df.describe()"
   ]
  },
  {
   "cell_type": "markdown",
   "id": "0e55e3aa",
   "metadata": {},
   "source": [
    "## 공시지가 유동인구 차이값 행 생성"
   ]
  },
  {
   "cell_type": "code",
   "execution_count": null,
   "id": "c3f4cc3d",
   "metadata": {},
   "outputs": [],
   "source": [
    "# 3개월후까지 합한값과 값과 3개월전까지 합한값의 유동인구 차이를 퍼스센트화\n",
    "base_df['pop_per'] = ((base_df['pop_plus'] - base_df['pop_minus']) / base_df['pop_plus']) *100"
   ]
  },
  {
   "cell_type": "code",
   "execution_count": null,
   "id": "98c0da62",
   "metadata": {},
   "outputs": [],
   "source": [
    "# 공시지가 전후 차이\n",
    "base_df['price_dff'] = ((base_df['후_공시지가']-base_df['전_공시지가'])"
   ]
  },
  {
   "cell_type": "code",
   "execution_count": null,
   "id": "f9f572b1",
   "metadata": {},
   "outputs": [],
   "source": [
    "# 서브플롯 생성\n",
    "fig, axs = plt.subplots(2, 1, figsize=(8,6))  # 2개의 그래프를 세로로 배치\n",
    "\n",
    "# 첫 번째 그래프\n",
    "sns.boxplot(x=base_df['pop_per'], ax=axs[0])\n",
    "axs[0].set_title('pop')\n",
    "\n",
    "# 두 번째 그래프\n",
    "sns.boxplot(x=base_df['price_dff'], ax=axs[1])\n",
    "axs[1].set_title('price')\n",
    "\n",
    "# 그래프 간 간격 조정\n",
    "plt.tight_layout()\n",
    "\n",
    "# 그래프 표시\n",
    "plt.show()"
   ]
  },
  {
   "cell_type": "code",
   "execution_count": null,
   "id": "6cdfdc32",
   "metadata": {},
   "outputs": [],
   "source": [
    "base_df.to_csv('/Users/kwakdong-u/Library/CloudStorage/OneDrive-UOS/스타벅스 유동인구 팀플/유동인구_스타벅스/전처리_데이터_peradd.csv', index=False, encoding='euc-kr')"
   ]
  }
 ],
 "metadata": {
  "kernelspec": {
   "display_name": "mongo_db_env",
   "language": "python",
   "name": "mongo_db_environment"
  },
  "language_info": {
   "codemirror_mode": {
    "name": "ipython",
    "version": 3
   },
   "file_extension": ".py",
   "mimetype": "text/x-python",
   "name": "python",
   "nbconvert_exporter": "python",
   "pygments_lexer": "ipython3",
   "version": "3.8.16"
  }
 },
 "nbformat": 4,
 "nbformat_minor": 5
}
